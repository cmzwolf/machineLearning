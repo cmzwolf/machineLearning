{
  "nbformat": 4,
  "nbformat_minor": 0,
  "metadata": {
    "colab": {
      "provenance": [],
      "authorship_tag": "ABX9TyOWZbcarqaZpdi7x63E3vDy",
      "include_colab_link": true
    },
    "kernelspec": {
      "name": "python3",
      "display_name": "Python 3"
    },
    "language_info": {
      "name": "python"
    }
  },
  "cells": [
    {
      "cell_type": "markdown",
      "metadata": {
        "id": "view-in-github",
        "colab_type": "text"
      },
      "source": [
        "<a href=\"https://colab.research.google.com/github/cmzwolf/machineLearning/blob/main/ChemTrans.ipynb\" target=\"_parent\"><img src=\"https://colab.research.google.com/assets/colab-badge.svg\" alt=\"Open In Colab\"/></a>"
      ]
    },
    {
      "cell_type": "code",
      "execution_count": null,
      "metadata": {
        "id": "53zdvAoFpjqx"
      },
      "outputs": [],
      "source": [
        "import tensorflow as tf\n",
        "from tensorflow import keras\n",
        "from keras.api._v2.keras import activations\n",
        "\n",
        "import numpy as np\n",
        "import matplotlib.pyplot as plt\n",
        "from importlib import reload"
      ]
    },
    {
      "cell_type": "code",
      "source": [
        "nbPhisParam = 10\n",
        "seqMaxLenght = 3\n",
        "latentDim = 4\n",
        "\n",
        "NbOfTransBlocks = 6"
      ],
      "metadata": {
        "id": "LyGfELVip-4G"
      },
      "execution_count": null,
      "outputs": []
    },
    {
      "cell_type": "code",
      "source": [
        "a = np.random.rand(seqMaxLenght , nbPhisParam)\n",
        "a"
      ],
      "metadata": {
        "colab": {
          "base_uri": "https://localhost:8080/"
        },
        "id": "_4fJtyQVsNRZ",
        "outputId": "a1bf5701-169f-4981-fd17-67aa9fda6bba"
      },
      "execution_count": null,
      "outputs": [
        {
          "output_type": "execute_result",
          "data": {
            "text/plain": [
              "array([[0.749231  , 0.33566701, 0.88163603, 0.87155149, 0.39412449,\n",
              "        0.86229768, 0.5528675 , 0.5619276 , 0.28560993, 0.54102378],\n",
              "       [0.29122267, 0.28675602, 0.23609739, 0.93355352, 0.39487143,\n",
              "        0.44475151, 0.74033767, 0.30448359, 0.48433186, 0.2384493 ],\n",
              "       [0.85183999, 0.51789701, 0.55654204, 0.22007827, 0.16092495,\n",
              "        0.67228727, 0.13069588, 0.52211487, 0.9986423 , 0.3305903 ]])"
            ]
          },
          "metadata": {},
          "execution_count": 3
        }
      ]
    },
    {
      "cell_type": "code",
      "source": [
        "# starting the definition of the Transormers model\n",
        "input = keras.layers.Input(shape = (seqMaxLenght, nbPhisParam))\n",
        "\n",
        "masked = keras.layers.Masking(mask_value=-1.0, input_shape=(seqMaxLenght, nbPhisParam))(input)\n",
        "#masked = keras.layers.Masking(mask_value=-1.0)(input)\n",
        "\n",
        "\n",
        "# embed1, 2 and 3 are embedding layers to convert inputs into a latent space of \n",
        "# dimension latentDim\n",
        "\n",
        "embed1 = keras.layers.Dense(nbPhisParam, activation=\"relu\")(masked)\n",
        "embed2 = keras.layers.Dense(nbPhisParam, activation=\"relu\")(embed1)\n",
        "embed3 = keras.layers.Dense(latentDim, activation=\"relu\")(embed2)\n",
        "\n",
        "transformerInput = embed3\n",
        "\n",
        "# begin of the loop to define the set of transformer-blocks\n",
        "for i in range(NbOfTransBlocks):\n",
        "  # Starting the i-th transformer, from the transformersInput layer\n",
        "  K = keras.layers.Dense(latentDim)(transformerInput)\n",
        "  Q = keras.layers.Dense(latentDim)(transformerInput)\n",
        "  V = keras.layers.Dense(latentDim)(transformerInput)\n",
        "\n",
        "  # defining the multihead attention mechanisms\n",
        "  mha = keras.layers.MultiHeadAttention(num_heads=2, key_dim=2)\n",
        "  attention_output = mha(query = Q, value = V, key = K, use_causal_mask = True)\n",
        "  \n",
        "  residual_connection = keras.layers.Add()([transformerInput, attention_output])\n",
        "  normalized_rc = keras.layers.LayerNormalization(epsilon = 1e-6)(residual_connection)\n",
        "\n",
        "  #defining the feedForward layer\n",
        "  fw1 = keras.layers.Dense(latentDim, activation=\"relu\")(normalized_rc)\n",
        "  fw2 = keras.layers.Dense(latentDim, activation= \"relu\")(fw1)\n",
        "  fw3 = keras.layers.Dense(latentDim)(fw2)\n",
        "  \n",
        "  residual_connection2 = keras.layers.Add()([normalized_rc, fw3])\n",
        "  normalized_rc2 = keras.layers.LayerNormalization(epsilon = 1e-6)(residual_connection2)\n",
        "  # end of the transformers block\n",
        "\n",
        "  #the output of the (N-1) transformers block will be the input for the N block\n",
        "  transformerInput = normalized_rc2\n",
        "\n",
        "# building the head of the transformers with some dense layers\n",
        "head1 = keras.layers.Dense(latentDim, activation=\"relu\")(transformerInput)\n",
        "head2 = keras.layers.Dense(nbPhisParam, activation=\"relu\")(head1)\n",
        "head3 = keras.layers.Dense(nbPhisParam, activation=None)(head2)\n",
        "\n",
        "\n",
        "model = keras.Model(input, head3)\n",
        "\n",
        " \n"
      ],
      "metadata": {
        "id": "yasYv1BTsbJz"
      },
      "execution_count": null,
      "outputs": []
    },
    {
      "cell_type": "code",
      "source": [
        "\n",
        "model.summary()"
      ],
      "metadata": {
        "colab": {
          "base_uri": "https://localhost:8080/"
        },
        "id": "gq16kITyt6cU",
        "outputId": "e267046c-d593-4ae0-fe3d-6a818133dcfb"
      },
      "execution_count": null,
      "outputs": [
        {
          "output_type": "stream",
          "name": "stdout",
          "text": [
            "Model: \"model\"\n",
            "__________________________________________________________________________________________________\n",
            " Layer (type)                   Output Shape         Param #     Connected to                     \n",
            "==================================================================================================\n",
            " input_1 (InputLayer)           [(None, 3, 10)]      0           []                               \n",
            "                                                                                                  \n",
            " masking (Masking)              (None, 3, 10)        0           ['input_1[0][0]']                \n",
            "                                                                                                  \n",
            " dense (Dense)                  (None, 3, 10)        110         ['masking[0][0]']                \n",
            "                                                                                                  \n",
            " dense_1 (Dense)                (None, 3, 10)        110         ['dense[0][0]']                  \n",
            "                                                                                                  \n",
            " dense_2 (Dense)                (None, 3, 4)         44          ['dense_1[0][0]']                \n",
            "                                                                                                  \n",
            " dense_4 (Dense)                (None, 3, 4)         20          ['dense_2[0][0]']                \n",
            "                                                                                                  \n",
            " dense_3 (Dense)                (None, 3, 4)         20          ['dense_2[0][0]']                \n",
            "                                                                                                  \n",
            " dense_5 (Dense)                (None, 3, 4)         20          ['dense_2[0][0]']                \n",
            "                                                                                                  \n",
            " multi_head_attention (MultiHea  (None, 3, 4)        80          ['dense_4[0][0]',                \n",
            " dAttention)                                                      'dense_3[0][0]',                \n",
            "                                                                  'dense_5[0][0]']                \n",
            "                                                                                                  \n",
            " add (Add)                      (None, 3, 4)         0           ['dense_2[0][0]',                \n",
            "                                                                  'multi_head_attention[0][0]']   \n",
            "                                                                                                  \n",
            " layer_normalization (LayerNorm  (None, 3, 4)        8           ['add[0][0]']                    \n",
            " alization)                                                                                       \n",
            "                                                                                                  \n",
            " dense_6 (Dense)                (None, 3, 4)         20          ['layer_normalization[0][0]']    \n",
            "                                                                                                  \n",
            " dense_7 (Dense)                (None, 3, 4)         20          ['dense_6[0][0]']                \n",
            "                                                                                                  \n",
            " dense_8 (Dense)                (None, 3, 4)         20          ['dense_7[0][0]']                \n",
            "                                                                                                  \n",
            " add_1 (Add)                    (None, 3, 4)         0           ['layer_normalization[0][0]',    \n",
            "                                                                  'dense_8[0][0]']                \n",
            "                                                                                                  \n",
            " layer_normalization_1 (LayerNo  (None, 3, 4)        8           ['add_1[0][0]']                  \n",
            " rmalization)                                                                                     \n",
            "                                                                                                  \n",
            " dense_10 (Dense)               (None, 3, 4)         20          ['layer_normalization_1[0][0]']  \n",
            "                                                                                                  \n",
            " dense_9 (Dense)                (None, 3, 4)         20          ['layer_normalization_1[0][0]']  \n",
            "                                                                                                  \n",
            " dense_11 (Dense)               (None, 3, 4)         20          ['layer_normalization_1[0][0]']  \n",
            "                                                                                                  \n",
            " multi_head_attention_1 (MultiH  (None, 3, 4)        80          ['dense_10[0][0]',               \n",
            " eadAttention)                                                    'dense_9[0][0]',                \n",
            "                                                                  'dense_11[0][0]']               \n",
            "                                                                                                  \n",
            " add_2 (Add)                    (None, 3, 4)         0           ['layer_normalization_1[0][0]',  \n",
            "                                                                  'multi_head_attention_1[0][0]'] \n",
            "                                                                                                  \n",
            " layer_normalization_2 (LayerNo  (None, 3, 4)        8           ['add_2[0][0]']                  \n",
            " rmalization)                                                                                     \n",
            "                                                                                                  \n",
            " dense_12 (Dense)               (None, 3, 4)         20          ['layer_normalization_2[0][0]']  \n",
            "                                                                                                  \n",
            " dense_13 (Dense)               (None, 3, 4)         20          ['dense_12[0][0]']               \n",
            "                                                                                                  \n",
            " dense_14 (Dense)               (None, 3, 4)         20          ['dense_13[0][0]']               \n",
            "                                                                                                  \n",
            " add_3 (Add)                    (None, 3, 4)         0           ['layer_normalization_2[0][0]',  \n",
            "                                                                  'dense_14[0][0]']               \n",
            "                                                                                                  \n",
            " layer_normalization_3 (LayerNo  (None, 3, 4)        8           ['add_3[0][0]']                  \n",
            " rmalization)                                                                                     \n",
            "                                                                                                  \n",
            " dense_16 (Dense)               (None, 3, 4)         20          ['layer_normalization_3[0][0]']  \n",
            "                                                                                                  \n",
            " dense_15 (Dense)               (None, 3, 4)         20          ['layer_normalization_3[0][0]']  \n",
            "                                                                                                  \n",
            " dense_17 (Dense)               (None, 3, 4)         20          ['layer_normalization_3[0][0]']  \n",
            "                                                                                                  \n",
            " multi_head_attention_2 (MultiH  (None, 3, 4)        80          ['dense_16[0][0]',               \n",
            " eadAttention)                                                    'dense_15[0][0]',               \n",
            "                                                                  'dense_17[0][0]']               \n",
            "                                                                                                  \n",
            " add_4 (Add)                    (None, 3, 4)         0           ['layer_normalization_3[0][0]',  \n",
            "                                                                  'multi_head_attention_2[0][0]'] \n",
            "                                                                                                  \n",
            " layer_normalization_4 (LayerNo  (None, 3, 4)        8           ['add_4[0][0]']                  \n",
            " rmalization)                                                                                     \n",
            "                                                                                                  \n",
            " dense_18 (Dense)               (None, 3, 4)         20          ['layer_normalization_4[0][0]']  \n",
            "                                                                                                  \n",
            " dense_19 (Dense)               (None, 3, 4)         20          ['dense_18[0][0]']               \n",
            "                                                                                                  \n",
            " dense_20 (Dense)               (None, 3, 4)         20          ['dense_19[0][0]']               \n",
            "                                                                                                  \n",
            " add_5 (Add)                    (None, 3, 4)         0           ['layer_normalization_4[0][0]',  \n",
            "                                                                  'dense_20[0][0]']               \n",
            "                                                                                                  \n",
            " layer_normalization_5 (LayerNo  (None, 3, 4)        8           ['add_5[0][0]']                  \n",
            " rmalization)                                                                                     \n",
            "                                                                                                  \n",
            " dense_22 (Dense)               (None, 3, 4)         20          ['layer_normalization_5[0][0]']  \n",
            "                                                                                                  \n",
            " dense_21 (Dense)               (None, 3, 4)         20          ['layer_normalization_5[0][0]']  \n",
            "                                                                                                  \n",
            " dense_23 (Dense)               (None, 3, 4)         20          ['layer_normalization_5[0][0]']  \n",
            "                                                                                                  \n",
            " multi_head_attention_3 (MultiH  (None, 3, 4)        80          ['dense_22[0][0]',               \n",
            " eadAttention)                                                    'dense_21[0][0]',               \n",
            "                                                                  'dense_23[0][0]']               \n",
            "                                                                                                  \n",
            " add_6 (Add)                    (None, 3, 4)         0           ['layer_normalization_5[0][0]',  \n",
            "                                                                  'multi_head_attention_3[0][0]'] \n",
            "                                                                                                  \n",
            " layer_normalization_6 (LayerNo  (None, 3, 4)        8           ['add_6[0][0]']                  \n",
            " rmalization)                                                                                     \n",
            "                                                                                                  \n",
            " dense_24 (Dense)               (None, 3, 4)         20          ['layer_normalization_6[0][0]']  \n",
            "                                                                                                  \n",
            " dense_25 (Dense)               (None, 3, 4)         20          ['dense_24[0][0]']               \n",
            "                                                                                                  \n",
            " dense_26 (Dense)               (None, 3, 4)         20          ['dense_25[0][0]']               \n",
            "                                                                                                  \n",
            " add_7 (Add)                    (None, 3, 4)         0           ['layer_normalization_6[0][0]',  \n",
            "                                                                  'dense_26[0][0]']               \n",
            "                                                                                                  \n",
            " layer_normalization_7 (LayerNo  (None, 3, 4)        8           ['add_7[0][0]']                  \n",
            " rmalization)                                                                                     \n",
            "                                                                                                  \n",
            " dense_28 (Dense)               (None, 3, 4)         20          ['layer_normalization_7[0][0]']  \n",
            "                                                                                                  \n",
            " dense_27 (Dense)               (None, 3, 4)         20          ['layer_normalization_7[0][0]']  \n",
            "                                                                                                  \n",
            " dense_29 (Dense)               (None, 3, 4)         20          ['layer_normalization_7[0][0]']  \n",
            "                                                                                                  \n",
            " multi_head_attention_4 (MultiH  (None, 3, 4)        80          ['dense_28[0][0]',               \n",
            " eadAttention)                                                    'dense_27[0][0]',               \n",
            "                                                                  'dense_29[0][0]']               \n",
            "                                                                                                  \n",
            " add_8 (Add)                    (None, 3, 4)         0           ['layer_normalization_7[0][0]',  \n",
            "                                                                  'multi_head_attention_4[0][0]'] \n",
            "                                                                                                  \n",
            " layer_normalization_8 (LayerNo  (None, 3, 4)        8           ['add_8[0][0]']                  \n",
            " rmalization)                                                                                     \n",
            "                                                                                                  \n",
            " dense_30 (Dense)               (None, 3, 4)         20          ['layer_normalization_8[0][0]']  \n",
            "                                                                                                  \n",
            " dense_31 (Dense)               (None, 3, 4)         20          ['dense_30[0][0]']               \n",
            "                                                                                                  \n",
            " dense_32 (Dense)               (None, 3, 4)         20          ['dense_31[0][0]']               \n",
            "                                                                                                  \n",
            " add_9 (Add)                    (None, 3, 4)         0           ['layer_normalization_8[0][0]',  \n",
            "                                                                  'dense_32[0][0]']               \n",
            "                                                                                                  \n",
            " layer_normalization_9 (LayerNo  (None, 3, 4)        8           ['add_9[0][0]']                  \n",
            " rmalization)                                                                                     \n",
            "                                                                                                  \n",
            " dense_34 (Dense)               (None, 3, 4)         20          ['layer_normalization_9[0][0]']  \n",
            "                                                                                                  \n",
            " dense_33 (Dense)               (None, 3, 4)         20          ['layer_normalization_9[0][0]']  \n",
            "                                                                                                  \n",
            " dense_35 (Dense)               (None, 3, 4)         20          ['layer_normalization_9[0][0]']  \n",
            "                                                                                                  \n",
            " multi_head_attention_5 (MultiH  (None, 3, 4)        80          ['dense_34[0][0]',               \n",
            " eadAttention)                                                    'dense_33[0][0]',               \n",
            "                                                                  'dense_35[0][0]']               \n",
            "                                                                                                  \n",
            " add_10 (Add)                   (None, 3, 4)         0           ['layer_normalization_9[0][0]',  \n",
            "                                                                  'multi_head_attention_5[0][0]'] \n",
            "                                                                                                  \n",
            " layer_normalization_10 (LayerN  (None, 3, 4)        8           ['add_10[0][0]']                 \n",
            " ormalization)                                                                                    \n",
            "                                                                                                  \n",
            " dense_36 (Dense)               (None, 3, 4)         20          ['layer_normalization_10[0][0]'] \n",
            "                                                                                                  \n",
            " dense_37 (Dense)               (None, 3, 4)         20          ['dense_36[0][0]']               \n",
            "                                                                                                  \n",
            " dense_38 (Dense)               (None, 3, 4)         20          ['dense_37[0][0]']               \n",
            "                                                                                                  \n",
            " add_11 (Add)                   (None, 3, 4)         0           ['layer_normalization_10[0][0]', \n",
            "                                                                  'dense_38[0][0]']               \n",
            "                                                                                                  \n",
            " layer_normalization_11 (LayerN  (None, 3, 4)        8           ['add_11[0][0]']                 \n",
            " ormalization)                                                                                    \n",
            "                                                                                                  \n",
            " dense_39 (Dense)               (None, 3, 4)         20          ['layer_normalization_11[0][0]'] \n",
            "                                                                                                  \n",
            " dense_40 (Dense)               (None, 3, 10)        50          ['dense_39[0][0]']               \n",
            "                                                                                                  \n",
            " dense_41 (Dense)               (None, 3, 10)        110         ['dense_40[0][0]']               \n",
            "                                                                                                  \n",
            "==================================================================================================\n",
            "Total params: 1,740\n",
            "Trainable params: 1,740\n",
            "Non-trainable params: 0\n",
            "__________________________________________________________________________________________________\n"
          ]
        }
      ]
    },
    {
      "cell_type": "code",
      "source": [
        "a1 = np.random.rand(1,seqMaxLenght , nbPhisParam)\n"
      ],
      "metadata": {
        "id": "HuxYnYHLWFJg"
      },
      "execution_count": null,
      "outputs": []
    },
    {
      "cell_type": "code",
      "source": [
        "a1[:, 1:, :]=-1.0\n",
        "a1"
      ],
      "metadata": {
        "colab": {
          "base_uri": "https://localhost:8080/"
        },
        "id": "TRo-i14iWfVZ",
        "outputId": "3762353b-353a-41d2-a09c-3ce62d82d993"
      },
      "execution_count": null,
      "outputs": [
        {
          "output_type": "execute_result",
          "data": {
            "text/plain": [
              "array([[[ 0.50070636,  0.05398985,  0.7107876 ,  0.67811944,\n",
              "          0.83659072,  0.74536643,  0.32726702,  0.16959711,\n",
              "          0.55207458,  0.96348064],\n",
              "        [-1.        , -1.        , -1.        , -1.        ,\n",
              "         -1.        , -1.        , -1.        , -1.        ,\n",
              "         -1.        , -1.        ],\n",
              "        [-1.        , -1.        , -1.        , -1.        ,\n",
              "         -1.        , -1.        , -1.        , -1.        ,\n",
              "         -1.        , -1.        ]]])"
            ]
          },
          "metadata": {},
          "execution_count": 10
        }
      ]
    },
    {
      "cell_type": "code",
      "source": [
        "\n",
        "b = model(a1)\n",
        "b"
      ],
      "metadata": {
        "colab": {
          "base_uri": "https://localhost:8080/"
        },
        "id": "KW_LhbAiuZXm",
        "outputId": "548c42bb-fa0a-41fa-caa8-01c32f9f15b4"
      },
      "execution_count": null,
      "outputs": [
        {
          "output_type": "execute_result",
          "data": {
            "text/plain": [
              "<tf.Tensor: shape=(1, 3, 10), dtype=float32, numpy=\n",
              "array([[[ 0.6031983 , -0.25286838, -0.07161084,  0.5325496 ,\n",
              "          0.64164317,  0.35254112, -0.01343392,  0.09527819,\n",
              "         -0.6869054 ,  0.3321216 ],\n",
              "        [ 0.38353884,  0.13234004, -0.65850896,  0.25031245,\n",
              "          0.26480168,  0.07271829, -0.1877878 ,  0.13173133,\n",
              "         -1.0640119 , -0.41256213],\n",
              "        [ 0.38353884,  0.13234004, -0.65850896,  0.25031245,\n",
              "          0.26480168,  0.07271829, -0.1877878 ,  0.13173133,\n",
              "         -1.0640119 , -0.41256213]]], dtype=float32)>"
            ]
          },
          "metadata": {},
          "execution_count": 11
        }
      ]
    }
  ]
}